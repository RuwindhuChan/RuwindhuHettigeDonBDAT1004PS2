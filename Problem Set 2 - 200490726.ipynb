{
 "cells": [
  {
   "cell_type": "markdown",
   "id": "7bc78a9c",
   "metadata": {},
   "source": [
    "# Problem Set 2"
   ]
  },
  {
   "cell_type": "markdown",
   "id": "defb2387",
   "metadata": {},
   "source": [
    "###  Question 1"
   ]
  },
  {
   "cell_type": "code",
   "execution_count": 1,
   "id": "a475a77b",
   "metadata": {},
   "outputs": [],
   "source": [
    "a =0 \n",
    "\n",
    "def b():\n",
    "    global a \n",
    "    a = c(a)\n",
    "\n",
    "def c(a):\n",
    "    return a+2"
   ]
  },
  {
   "cell_type": "code",
   "execution_count": 2,
   "id": "c1f265a8",
   "metadata": {},
   "outputs": [],
   "source": [
    "b()"
   ]
  },
  {
   "cell_type": "code",
   "execution_count": 3,
   "id": "ab9363f3",
   "metadata": {},
   "outputs": [],
   "source": [
    "b()"
   ]
  },
  {
   "cell_type": "code",
   "execution_count": 4,
   "id": "26d22cdf",
   "metadata": {},
   "outputs": [],
   "source": [
    "b()"
   ]
  },
  {
   "cell_type": "code",
   "execution_count": 5,
   "id": "438340eb",
   "metadata": {},
   "outputs": [
    {
     "data": {
      "text/plain": [
       "6"
      ]
     },
     "execution_count": 5,
     "metadata": {},
     "output_type": "execute_result"
    }
   ],
   "source": [
    "a"
   ]
  },
  {
   "cell_type": "markdown",
   "id": "7c64ac37",
   "metadata": {},
   "source": [
    "The final value displayed is 6.\n",
    "First when b() method is called for the first time. Inside b(), the global variable a is accessed via the used of the global prefix. Next the global a is passed as a parameter for the c(). Inside the c() method, 2 is added to the global variable a. Therefore the value of a becomes 2. \n",
    "\n",
    "Next then again when the b() method for the second time, the global variable a is accessed again and then passed onto the method c(). Yet again, inside method c(), 2 is added to the global variable therefore the value of a becomes 4. \n",
    "\n",
    "Finally when the b() method is called for the final time, the inital value of a is 4. This value is accessed inside method b() and passed onto the method c() wherer is returns a values which has 2 added to the value of a which is passed to it. Therefore, finally the value of a is 6 when is called to be displayed. "
   ]
  },
  {
   "cell_type": "markdown",
   "id": "0014041a",
   "metadata": {},
   "source": [
    "### Question 2 \n",
    "\n",
    "In the following question, a try and except block was used to catch the error thrown which is an OS Error when a file is not found."
   ]
  },
  {
   "cell_type": "code",
   "execution_count": 6,
   "id": "9b04cd90",
   "metadata": {},
   "outputs": [],
   "source": [
    "def file_length(file_name):\n",
    "    try:\n",
    "        file = open(file_name)\n",
    "        contents = file.read()\n",
    "        file.close()\n",
    "        print(len(contents))\n",
    "    except OSError as e:\n",
    "        print(f'File {file_name} not found.')"
   ]
  },
  {
   "cell_type": "code",
   "execution_count": 7,
   "id": "07a1b1e9",
   "metadata": {},
   "outputs": [
    {
     "name": "stdout",
     "output_type": "stream",
     "text": [
      "33\n"
     ]
    }
   ],
   "source": [
    "file_length('midterm.py')"
   ]
  },
  {
   "cell_type": "code",
   "execution_count": 8,
   "id": "2ff81cd9",
   "metadata": {},
   "outputs": [
    {
     "name": "stdout",
     "output_type": "stream",
     "text": [
      "File dterm.py not found.\n"
     ]
    }
   ],
   "source": [
    "file_length('dterm.py')"
   ]
  },
  {
   "cell_type": "markdown",
   "id": "4a98705c",
   "metadata": {},
   "source": [
    "### Question 3 "
   ]
  },
  {
   "cell_type": "code",
   "execution_count": 9,
   "id": "033e6b1e",
   "metadata": {},
   "outputs": [],
   "source": [
    "class Marsupial():\n",
    "    def __init__(self):\n",
    "        self.contents = []\n",
    "    \n",
    "    def put_in_pouch(self,item):\n",
    "        self.contents.append(item);\n",
    "    \n",
    "    def pouch_contents(self):\n",
    "        print(self.contents)"
   ]
  },
  {
   "cell_type": "code",
   "execution_count": 10,
   "id": "90836e00",
   "metadata": {},
   "outputs": [],
   "source": [
    "m = Marsupial()\n"
   ]
  },
  {
   "cell_type": "code",
   "execution_count": 11,
   "id": "805da592",
   "metadata": {},
   "outputs": [],
   "source": [
    "m.put_in_pouch('doll')\n"
   ]
  },
  {
   "cell_type": "code",
   "execution_count": 12,
   "id": "ca81b0cd",
   "metadata": {},
   "outputs": [],
   "source": [
    "m.put_in_pouch('firetruck')"
   ]
  },
  {
   "cell_type": "code",
   "execution_count": 13,
   "id": "6250c323",
   "metadata": {},
   "outputs": [],
   "source": [
    "m.put_in_pouch('kitten')"
   ]
  },
  {
   "cell_type": "code",
   "execution_count": 14,
   "id": "fe865333",
   "metadata": {},
   "outputs": [
    {
     "name": "stdout",
     "output_type": "stream",
     "text": [
      "['doll', 'firetruck', 'kitten']\n"
     ]
    }
   ],
   "source": [
    "m.pouch_contents()"
   ]
  },
  {
   "cell_type": "code",
   "execution_count": 15,
   "id": "e405dfa3",
   "metadata": {},
   "outputs": [],
   "source": [
    "class Kangaroo(Marsupial):\n",
    "    def __init__(self,x,y):\n",
    "        super().__init__()\n",
    "        self.x = x\n",
    "        self.y = y\n",
    "    def jump(self,dx,dy):\n",
    "        self.x += dx\n",
    "        self.y += dy\n",
    "    def __str__(self):\n",
    "        return (f\"I am a Kangaroo located at coordinates ({self.x},{self.y})\")"
   ]
  },
  {
   "cell_type": "code",
   "execution_count": 16,
   "id": "987c6f9a",
   "metadata": {},
   "outputs": [],
   "source": [
    "k = Kangaroo(0,0)"
   ]
  },
  {
   "cell_type": "code",
   "execution_count": 17,
   "id": "71e71405",
   "metadata": {},
   "outputs": [
    {
     "name": "stdout",
     "output_type": "stream",
     "text": [
      "I am a Kangaroo located at coordinates (0,0)\n"
     ]
    }
   ],
   "source": [
    "print(k)"
   ]
  },
  {
   "cell_type": "code",
   "execution_count": 18,
   "id": "bfb1b61f",
   "metadata": {},
   "outputs": [
    {
     "name": "stdout",
     "output_type": "stream",
     "text": [
      "['doll', 'firetruck', 'kitten']\n"
     ]
    }
   ],
   "source": [
    "k.put_in_pouch('doll')\n",
    "k.put_in_pouch('firetruck')\n",
    "k.put_in_pouch('kitten')\n",
    "k.pouch_contents()"
   ]
  },
  {
   "cell_type": "code",
   "execution_count": 19,
   "id": "16676b6c",
   "metadata": {},
   "outputs": [
    {
     "name": "stdout",
     "output_type": "stream",
     "text": [
      "I am a Kangaroo located at coordinates (3,0)\n"
     ]
    }
   ],
   "source": [
    "k.jump(1,0)\n",
    "k.jump(1,0)\n",
    "k.jump(1,0)\n",
    "print(k)"
   ]
  },
  {
   "cell_type": "markdown",
   "id": "7a447f81",
   "metadata": {},
   "source": [
    "### Question 4 "
   ]
  },
  {
   "cell_type": "code",
   "execution_count": 20,
   "id": "8d8b80ee",
   "metadata": {},
   "outputs": [],
   "source": [
    "def collatz(n):\n",
    "    list1 = [n]\n",
    "    if n == 1 :\n",
    "        return [1]                 \n",
    "    elif n % 2 == 0 :\n",
    "         \n",
    "        list1.extend(collatz(n//2))     \n",
    "    else:\n",
    "        list1.extend(collatz(n*3+1))    \n",
    "    return list1   "
   ]
  },
  {
   "cell_type": "code",
   "execution_count": 21,
   "id": "ceb03a8a",
   "metadata": {},
   "outputs": [
    {
     "data": {
      "text/plain": [
       "[1]"
      ]
     },
     "execution_count": 21,
     "metadata": {},
     "output_type": "execute_result"
    }
   ],
   "source": [
    "collatz(1)"
   ]
  },
  {
   "cell_type": "code",
   "execution_count": 22,
   "id": "d47a7972",
   "metadata": {},
   "outputs": [
    {
     "data": {
      "text/plain": [
       "[10, 5, 16, 8, 4, 2, 1]"
      ]
     },
     "execution_count": 22,
     "metadata": {},
     "output_type": "execute_result"
    }
   ],
   "source": [
    "collatz(10)"
   ]
  },
  {
   "cell_type": "markdown",
   "id": "c88fd031",
   "metadata": {},
   "source": [
    "### Question 5 "
   ]
  },
  {
   "cell_type": "code",
   "execution_count": 23,
   "id": "da63a9bf",
   "metadata": {},
   "outputs": [],
   "source": [
    "def binary(number):\n",
    "    if number > 1:\n",
    "        binary(number//2)\n",
    "    print(number % 2,end = '')\n",
    "    "
   ]
  },
  {
   "cell_type": "code",
   "execution_count": 24,
   "id": "ec3c6902",
   "metadata": {},
   "outputs": [
    {
     "name": "stdout",
     "output_type": "stream",
     "text": [
      "0"
     ]
    }
   ],
   "source": [
    "binary(0)"
   ]
  },
  {
   "cell_type": "code",
   "execution_count": 25,
   "id": "ea48b120",
   "metadata": {},
   "outputs": [
    {
     "name": "stdout",
     "output_type": "stream",
     "text": [
      "1"
     ]
    }
   ],
   "source": [
    "binary(1)"
   ]
  },
  {
   "cell_type": "code",
   "execution_count": 26,
   "id": "699d7503",
   "metadata": {},
   "outputs": [
    {
     "name": "stdout",
     "output_type": "stream",
     "text": [
      "11"
     ]
    }
   ],
   "source": [
    "binary(3)"
   ]
  },
  {
   "cell_type": "code",
   "execution_count": 27,
   "id": "8e07f419",
   "metadata": {},
   "outputs": [
    {
     "name": "stdout",
     "output_type": "stream",
     "text": [
      "1001"
     ]
    }
   ],
   "source": [
    "binary(9)"
   ]
  },
  {
   "cell_type": "markdown",
   "id": "47da64b8",
   "metadata": {},
   "source": [
    "### Question 6 "
   ]
  },
  {
   "cell_type": "code",
   "execution_count": 28,
   "id": "112413ef",
   "metadata": {},
   "outputs": [],
   "source": [
    "from html.parser import HTMLParser\n",
    "\n",
    "class HeadingParser(HTMLParser):\n",
    "\n",
    "    def __init__(self):\n",
    "        super().__init__()\n",
    "        self.flagcheck = False\n",
    "        self.tab_value = \"\"\n",
    "\n",
    "    def handle_starttag(self, tag, attrs):\n",
    "        if tag in('h1'):\n",
    "            self.flagcheck = True\n",
    "        elif tag in ('h2'):\n",
    "            self.flagcheck = True\n",
    "            self.tab_value += \"\\t\"\n",
    "\n",
    "    def handle_endtag(self, tag):\n",
    "        if tag in('h1','h2'):\n",
    "            self.flagcheck = False\n",
    "\n",
    "    def handle_data(self, data):\n",
    "        if self.flagcheck:\n",
    "            print(self.tab_value + data)\n",
    "            \n"
   ]
  },
  {
   "cell_type": "code",
   "execution_count": 29,
   "id": "d9901a0a",
   "metadata": {},
   "outputs": [],
   "source": [
    "infile = open('w3c.html')\n",
    "content = infile.read()\n",
    "infile.close()"
   ]
  },
  {
   "cell_type": "code",
   "execution_count": 30,
   "id": "7d626cf3-4137-4aa9-9611-f4da86903771",
   "metadata": {},
   "outputs": [],
   "source": [
    "hp = HeadingParser()"
   ]
  },
  {
   "cell_type": "code",
   "execution_count": 31,
   "id": "401c6e25-f2ae-4828-8382-2464f0131edf",
   "metadata": {},
   "outputs": [
    {
     "name": "stdout",
     "output_type": "stream",
     "text": [
      "W3C Mission\n",
      "\tPrinciples\n"
     ]
    }
   ],
   "source": [
    "hp.feed(content)"
   ]
  },
  {
   "cell_type": "markdown",
   "id": "f5b2717e",
   "metadata": {},
   "source": [
    "### Question 7 \n",
    "\n",
    "Collector code used from the lecture 6: notebook\n",
    "\n",
    "References : https://stackoverflow.com/questions/38219057/python-how-to-make-an-exception-for-non-positive-numbers\n",
    "\n"
   ]
  },
  {
   "cell_type": "code",
   "execution_count": 32,
   "id": "ee4e8bb2-e660-4356-ae96-af58c6271f0e",
   "metadata": {},
   "outputs": [],
   "source": [
    "from urllib.parse import urljoin\n",
    "from html.parser import HTMLParser\n",
    "from urllib.request import urlopen\n",
    "\n",
    "class Collector(HTMLParser):\n",
    "\n",
    "    def __init__(self, url):\n",
    "        HTMLParser.__init__(self)\n",
    "        self.url = url\n",
    "        self.links = []\n",
    "\n",
    "    \n",
    "    def handle_starttag(self, tag, attrs):\n",
    "        if tag == 'a':\n",
    "            for attr in attrs:\n",
    "                if attr[0] == 'href':\n",
    "                    absolute = urljoin(self.url, attr[1])\n",
    "                    if absolute[:4] == 'http': # collect HTTP URLs\n",
    "                        self.links.append(absolute)\n",
    "                        \n",
    "    def getLinks(self):\n",
    "        return self.links\n",
    "\n",
    "def allLinks(url):\n",
    "    resource = urlopen(url)\n",
    "    content = resource.read().decode()\n",
    "    collector = Collector(url)\n",
    "    collector.feed(content)\n",
    "    return collector.getLinks()\n",
    "\n",
    "visited = set()\n",
    "deep = None\n",
    "indentation = None\n",
    "\n",
    "def displayUrl(url,currentDepth):\n",
    "    padding = len(url) + (currentDepth*indentation)\n",
    "    string = url.rjust(padding,\" \")\n",
    "    print(string)\n",
    "\n",
    "def crawl(url,currentDepth):\n",
    "    global deep\n",
    "\n",
    "    #base condition\n",
    "    if(currentDepth>deep): return\n",
    "    \n",
    "    displayUrl(url,currentDepth)\n",
    "\n",
    "    # global visited\n",
    "    \n",
    "    # if url not in visited: \n",
    "    #     visited.add(url)\n",
    "\n",
    "    links = allLinks(url)\n",
    "\n",
    "    for link in links:\n",
    "        try:\n",
    "            crawl(link,currentDepth+1)\n",
    "        except:\n",
    "            pass\n",
    "\n",
    "\n",
    "def webdir(url,depth,indent):\n",
    "    if(depth<0 or indent<0):\n",
    "        raise ValueError('Depth and Indentation cannot be negative')\n",
    "    \n",
    "    if not (isinstance(depth, int) and isinstance(indent, int)): \n",
    "        raise ValueError('Depth and Indentation should be non negative integers')\n",
    "    \n",
    "    global deep, indentation\n",
    "    deep = depth\n",
    "    indentation = indent\n",
    "\n",
    "    crawl(url, 0)\n"
   ]
  },
  {
   "cell_type": "code",
   "execution_count": 33,
   "id": "c08ce184-5945-420d-989d-5ca930029d99",
   "metadata": {},
   "outputs": [
    {
     "name": "stdout",
     "output_type": "stream",
     "text": [
      "https://reed.cs.depaul.edu/lperkovic/test1.html\n",
      " http://reed.cs.depaul.edu/lperkovic/test2.html\n",
      "  http://reed.cs.depaul.edu/lperkovic/test4.html\n",
      " https://reed.cs.depaul.edu/lperkovic/test3.html\n",
      "  https://reed.cs.depaul.edu/lperkovic/test4.html\n"
     ]
    }
   ],
   "source": [
    "webdir('https://reed.cs.depaul.edu/lperkovic/test1.html',2,1)"
   ]
  },
  {
   "cell_type": "markdown",
   "id": "90ec401d",
   "metadata": {},
   "source": [
    "### Question 8 "
   ]
  },
  {
   "cell_type": "code",
   "execution_count": 34,
   "id": "4efb4a61-6af4-4b05-811e-f220b2103933",
   "metadata": {},
   "outputs": [
    {
     "data": {
      "text/plain": [
       "<sqlite3.Cursor at 0x211b9a7a730>"
      ]
     },
     "execution_count": 34,
     "metadata": {},
     "output_type": "execute_result"
    }
   ],
   "source": [
    "import sqlite3\n",
    "con = sqlite3.connect('WeatherDataTable2.db')\n",
    "cur = con.cursor()\n",
    "cur.execute(\"CREATE TABLE Weather_Data_Table2 (City text, Country text, Season text,Temperature float,Rainfall float)\")\n",
    "cur.execute(\"INSERT INTO Weather_Data_Table2 VALUES ('Mumbai', 'India', 'Winter',24.8,5.9)\")\n",
    "cur.execute(\"INSERT INTO Weather_Data_Table2 VALUES ('Mumbai', 'India', 'Spring',28.4,16.2)\")\n",
    "cur.execute(\"INSERT INTO Weather_Data_Table2 VALUES ('Mumbai', 'India', 'Summer',27.9,1549.4 )\")\n",
    "cur.execute(\"INSERT INTO Weather_Data_Table2 VALUES ('Mumbai', 'India', 'Fall',27.6,346.0)\")\n",
    "cur.execute(\"INSERT INTO Weather_Data_Table2 VALUES ('London', 'United Kingdom', 'Winter',4.2,207.7 )\")\n",
    "cur.execute(\"INSERT INTO Weather_Data_Table2 VALUES ('London', 'United Kingdom', 'Spring',8.3,169.6)\")\n",
    "cur.execute(\"INSERT INTO Weather_Data_Table2 VALUES ('London', 'United Kingdom', 'Summer',15.7,157.0)\")\n",
    "cur.execute(\"INSERT INTO Weather_Data_Table2 VALUES ('London', 'United Kingdom', 'Fall',10.4,218.5)\")\n",
    "cur.execute(\"INSERT INTO Weather_Data_Table2 VALUES ('Cairo', 'Egypt', 'Winter',13.6,16.5)\")\n",
    "cur.execute(\"INSERT INTO Weather_Data_Table2 VALUES ('Cairo', 'Egypt', 'Spring',20.7,6.5)\")\n",
    "cur.execute(\"INSERT INTO Weather_Data_Table2 VALUES ('Cairo', 'Egypt', 'Summer',27.7,0.1)\")\n",
    "cur.execute(\"INSERT INTO Weather_Data_Table2 VALUES ('Cairo', 'Egypt', 'Fall',22.2,4.5)\")"
   ]
  },
  {
   "cell_type": "markdown",
   "id": "fe750954-37a1-4231-81a5-a4c7930b7600",
   "metadata": {},
   "source": [
    "**Part A**"
   ]
  },
  {
   "cell_type": "code",
   "execution_count": 35,
   "id": "6ef4193b",
   "metadata": {},
   "outputs": [
    {
     "data": {
      "text/plain": [
       "[(24.8,),\n",
       " (28.4,),\n",
       " (27.9,),\n",
       " (27.6,),\n",
       " (4.2,),\n",
       " (8.3,),\n",
       " (15.7,),\n",
       " (10.4,),\n",
       " (13.6,),\n",
       " (20.7,),\n",
       " (27.7,),\n",
       " (22.2,)]"
      ]
     },
     "execution_count": 35,
     "metadata": {},
     "output_type": "execute_result"
    }
   ],
   "source": [
    "cur.execute('SELECT Temperature FROM Weather_Data_Table2;')\n",
    "cur.fetchall()"
   ]
  },
  {
   "cell_type": "markdown",
   "id": "92157563",
   "metadata": {},
   "source": [
    "**Part B**"
   ]
  },
  {
   "cell_type": "code",
   "execution_count": 36,
   "id": "95ff5273",
   "metadata": {},
   "outputs": [
    {
     "data": {
      "text/plain": [
       "[('Mumbai',), ('London',), ('Cairo',)]"
      ]
     },
     "execution_count": 36,
     "metadata": {},
     "output_type": "execute_result"
    }
   ],
   "source": [
    "cur.execute('SELECT DISTINCT City FROM Weather_Data_Table2;')\n",
    "cur.fetchall()"
   ]
  },
  {
   "cell_type": "markdown",
   "id": "9355d1c3",
   "metadata": {},
   "source": [
    "**Part C**"
   ]
  },
  {
   "cell_type": "code",
   "execution_count": 37,
   "id": "91708070",
   "metadata": {},
   "outputs": [
    {
     "data": {
      "text/plain": [
       "[('Mumbai', 'India', 'Winter', 24.8, 5.9),\n",
       " ('Mumbai', 'India', 'Spring', 28.4, 16.2),\n",
       " ('Mumbai', 'India', 'Summer', 27.9, 1549.4),\n",
       " ('Mumbai', 'India', 'Fall', 27.6, 346.0)]"
      ]
     },
     "execution_count": 37,
     "metadata": {},
     "output_type": "execute_result"
    }
   ],
   "source": [
    "cur.execute(\"SELECT * FROM Weather_Data_Table2 WHERE Country= 'India';\")\n",
    "cur.fetchall()"
   ]
  },
  {
   "cell_type": "markdown",
   "id": "4d641802",
   "metadata": {},
   "source": [
    "**Part D**"
   ]
  },
  {
   "cell_type": "code",
   "execution_count": 38,
   "id": "7c80eaa4",
   "metadata": {},
   "outputs": [
    {
     "data": {
      "text/plain": [
       "[('Mumbai', 'India', 'Fall', 27.6, 346.0),\n",
       " ('London', 'United Kingdom', 'Fall', 10.4, 218.5),\n",
       " ('Cairo', 'Egypt', 'Fall', 22.2, 4.5)]"
      ]
     },
     "execution_count": 38,
     "metadata": {},
     "output_type": "execute_result"
    }
   ],
   "source": [
    "cur.execute(\"SELECT * FROM Weather_Data_Table2 WHERE Season = 'Fall';\")\n",
    "cur.fetchall()"
   ]
  },
  {
   "cell_type": "markdown",
   "id": "83f7d25f",
   "metadata": {},
   "source": [
    "**Part E**"
   ]
  },
  {
   "cell_type": "code",
   "execution_count": 39,
   "id": "d1c376cd",
   "metadata": {},
   "outputs": [
    {
     "data": {
      "text/plain": [
       "[('London', 'United Kingdom', 'Fall'),\n",
       " ('London', 'United Kingdom', 'Winter'),\n",
       " ('Mumbai', 'India', 'Fall')]"
      ]
     },
     "execution_count": 39,
     "metadata": {},
     "output_type": "execute_result"
    }
   ],
   "source": [
    "cur.execute(\"SELECT City,Country,Season FROM Weather_Data_Table2 GROUP BY City,Country,Season HAVING AVG(Rainfall) BETWEEN 200 AND 400 ;\")\n",
    "cur.fetchall()"
   ]
  },
  {
   "cell_type": "markdown",
   "id": "677e0b26",
   "metadata": {},
   "source": [
    "**Part F**"
   ]
  },
  {
   "cell_type": "code",
   "execution_count": 40,
   "id": "572e3e83",
   "metadata": {},
   "outputs": [
    {
     "data": {
      "text/plain": [
       "[('London', 'United Kingdom'), ('Mumbai', 'India')]"
      ]
     },
     "execution_count": 40,
     "metadata": {},
     "output_type": "execute_result"
    }
   ],
   "source": [
    "cur.execute(\"SELECT City,Country FROM Weather_Data_Table2 WHERE Season = 'Fall' GROUP BY City,Country HAVING (AVG(Rainfall) > 20) ORDER BY Temperature ASC;\")\n",
    "cur.fetchall()"
   ]
  },
  {
   "cell_type": "markdown",
   "id": "e0e1cc98",
   "metadata": {},
   "source": [
    "**Part G**"
   ]
  },
  {
   "cell_type": "code",
   "execution_count": 41,
   "id": "2fbb15d5",
   "metadata": {},
   "outputs": [
    {
     "data": {
      "text/plain": [
       "[(27.6,)]"
      ]
     },
     "execution_count": 41,
     "metadata": {},
     "output_type": "execute_result"
    }
   ],
   "source": [
    "cur.execute(\"SELECT SUM(Rainfall) FROM Weather_Data_Table2 WHERE City='Cairo'\")\n",
    "cur.fetchall()"
   ]
  },
  {
   "cell_type": "markdown",
   "id": "6c693453",
   "metadata": {},
   "source": [
    "**Part H**"
   ]
  },
  {
   "cell_type": "code",
   "execution_count": 42,
   "id": "c20b5207",
   "metadata": {},
   "outputs": [
    {
     "data": {
      "text/plain": [
       "[(569.0,), (192.29999999999998,), (1706.5,), (230.1,)]"
      ]
     },
     "execution_count": 42,
     "metadata": {},
     "output_type": "execute_result"
    }
   ],
   "source": [
    "cur.execute(\"SELECT SUM(Rainfall) FROM Weather_Data_Table2 GROUP BY Season;\")\n",
    "cur.fetchall()"
   ]
  },
  {
   "cell_type": "code",
   "execution_count": 43,
   "id": "4580859c-a056-492e-9ac3-6653467e8160",
   "metadata": {},
   "outputs": [],
   "source": [
    "cur.close()"
   ]
  },
  {
   "cell_type": "markdown",
   "id": "07d49735",
   "metadata": {},
   "source": [
    "### Question 9\n",
    "\n",
    "https://www.programiz.com/python-programming/list-comprehension"
   ]
  },
  {
   "cell_type": "code",
   "execution_count": 44,
   "id": "38b8dfc2",
   "metadata": {},
   "outputs": [],
   "source": [
    "words = ['The', 'quick', 'brown', 'fox', 'jumps', 'over', 'the', 'lazy', 'dog']"
   ]
  },
  {
   "cell_type": "markdown",
   "id": "07e78255",
   "metadata": {},
   "source": [
    "Reference - https://stackoverflow.com/questions/1801668/convert-a-list-with-strings-all-to-lowercase-or-uppercase"
   ]
  },
  {
   "cell_type": "code",
   "execution_count": 45,
   "id": "8de4c4fb",
   "metadata": {},
   "outputs": [
    {
     "data": {
      "text/plain": [
       "['THE', 'QUICK', 'BROWN', 'FOX', 'JUMPS', 'OVER', 'THE', 'LAZY', 'DOG']"
      ]
     },
     "execution_count": 45,
     "metadata": {},
     "output_type": "execute_result"
    }
   ],
   "source": [
    "## Part a \n",
    "[word.upper() for word in words]"
   ]
  },
  {
   "cell_type": "code",
   "execution_count": 46,
   "id": "43e013d3",
   "metadata": {},
   "outputs": [
    {
     "data": {
      "text/plain": [
       "['the', 'quick', 'brown', 'fox', 'jumps', 'over', 'the', 'lazy', 'dog']"
      ]
     },
     "execution_count": 46,
     "metadata": {},
     "output_type": "execute_result"
    }
   ],
   "source": [
    "## Part b \n",
    "[word.lower() for word in words]"
   ]
  },
  {
   "cell_type": "code",
   "execution_count": 47,
   "id": "ecbd866c",
   "metadata": {},
   "outputs": [
    {
     "data": {
      "text/plain": [
       "[3, 5, 5, 3, 5, 4, 3, 4, 3]"
      ]
     },
     "execution_count": 47,
     "metadata": {},
     "output_type": "execute_result"
    }
   ],
   "source": [
    "## Part c\n",
    "[len(word) for word in words]"
   ]
  },
  {
   "cell_type": "code",
   "execution_count": 50,
   "id": "a01a03ff",
   "metadata": {},
   "outputs": [
    {
     "data": {
      "text/plain": [
       "[['THE', 'the', 3],\n",
       " ['QUICK', 'quick', 5],\n",
       " ['BROWN', 'brown', 5],\n",
       " ['FOX', 'fox', 3],\n",
       " ['JUMPS', 'jumps', 5],\n",
       " ['OVER', 'over', 4],\n",
       " ['THE', 'the', 3],\n",
       " ['LAZY', 'lazy', 4],\n",
       " ['DOG', 'dog', 3]]"
      ]
     },
     "execution_count": 50,
     "metadata": {},
     "output_type": "execute_result"
    }
   ],
   "source": [
    "##Part d\n",
    "\n",
    "list1 = [[word.upper(), word.lower(), len(word)] for word in words]\n",
    "list1"
   ]
  },
  {
   "cell_type": "code",
   "execution_count": 49,
   "id": "da8e7e53",
   "metadata": {},
   "outputs": [
    {
     "data": {
      "text/plain": [
       "['quick', 'brown', 'jumps', 'over', 'lazy']"
      ]
     },
     "execution_count": 49,
     "metadata": {},
     "output_type": "execute_result"
    }
   ],
   "source": [
    "##Part e \n",
    "[word for word in words if len(word) >=4]"
   ]
  }
 ],
 "metadata": {
  "kernelspec": {
   "display_name": "Python 3 (ipykernel)",
   "language": "python",
   "name": "python3"
  },
  "language_info": {
   "codemirror_mode": {
    "name": "ipython",
    "version": 3
   },
   "file_extension": ".py",
   "mimetype": "text/x-python",
   "name": "python",
   "nbconvert_exporter": "python",
   "pygments_lexer": "ipython3",
   "version": "3.8.3"
  }
 },
 "nbformat": 4,
 "nbformat_minor": 5
}
